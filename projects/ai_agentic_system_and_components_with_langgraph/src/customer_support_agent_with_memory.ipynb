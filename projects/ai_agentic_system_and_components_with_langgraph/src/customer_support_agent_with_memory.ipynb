{
 "cells": [
  {
   "cell_type": "markdown",
   "metadata": {},
   "source": [
    "## Customer Support Agent With Long & Short Term Memory"
   ]
  },
  {
   "cell_type": "code",
   "execution_count": 26,
   "metadata": {},
   "outputs": [],
   "source": [
    "import os\n",
    "from dotenv import load_dotenv"
   ]
  },
  {
   "cell_type": "code",
   "execution_count": 27,
   "metadata": {},
   "outputs": [],
   "source": [
    "os.environ['LANGCHAIN_TRACING_V2'] = \"true\"\n",
    "os.environ['LANGCHAIN_PROJECT'] = \"langgraph_customer_support_agent_tutorial\""
   ]
  },
  {
   "cell_type": "markdown",
   "metadata": {},
   "source": [
    "### Basic Imports"
   ]
  },
  {
   "cell_type": "code",
   "execution_count": 28,
   "metadata": {},
   "outputs": [],
   "source": [
    "import uuid\n",
    "from langgraph.store.memory import InMemoryStore"
   ]
  },
  {
   "cell_type": "code",
   "execution_count": 29,
   "metadata": {},
   "outputs": [],
   "source": [
    "in_memory_store = InMemoryStore()"
   ]
  },
  {
   "cell_type": "markdown",
   "metadata": {},
   "source": [
    "### Store Information in Long Term Memory"
   ]
  },
  {
   "cell_type": "code",
   "execution_count": 30,
   "metadata": {},
   "outputs": [],
   "source": [
    "# Namespace for the memory to save\n",
    "customer_id = \"1\"\n",
    "namespace_for_memory = (customer_id, \"customer_interactions\")\n",
    "\n",
    "# Save memory to namespace as key value pairs\n",
    "key = \"1\"\n",
    "values = {\"name\": \"John Doe\", \"email\": \"rutvikjshah@gmail.com\"}\n",
    "\n",
    "# Save the memory to Disk\n",
    "in_memory_store.put(namespace=namespace_for_memory, key=key, value=values)"
   ]
  },
  {
   "cell_type": "markdown",
   "metadata": {},
   "source": [
    "### Search Memory"
   ]
  },
  {
   "cell_type": "code",
   "execution_count": 31,
   "metadata": {},
   "outputs": [
    {
     "data": {
      "text/plain": [
       "list"
      ]
     },
     "execution_count": 31,
     "metadata": {},
     "output_type": "execute_result"
    }
   ],
   "source": [
    "memories = in_memory_store.search(namespace_for_memory)\n",
    "type(memories)"
   ]
  },
  {
   "cell_type": "code",
   "execution_count": 32,
   "metadata": {},
   "outputs": [
    {
     "data": {
      "text/plain": [
       "[Item(namespace=['1', 'customer_interactions'], key='1', value={'name': 'John Doe', 'email': 'rutvikjshah@gmail.com'}, created_at='2025-02-26T16:54:06.189699+00:00', updated_at='2025-02-26T16:54:06.189700+00:00', score=None)]"
      ]
     },
     "execution_count": 32,
     "metadata": {},
     "output_type": "execute_result"
    }
   ],
   "source": [
    "memories"
   ]
  },
  {
   "cell_type": "code",
   "execution_count": 33,
   "metadata": {},
   "outputs": [
    {
     "data": {
      "text/plain": [
       "{'namespace': ['1', 'customer_interactions'],\n",
       " 'key': '1',\n",
       " 'value': {'name': 'John Doe', 'email': 'rutvikjshah@gmail.com'},\n",
       " 'created_at': '2025-02-26T16:54:06.189699+00:00',\n",
       " 'updated_at': '2025-02-26T16:54:06.189700+00:00',\n",
       " 'score': None}"
      ]
     },
     "execution_count": 33,
     "metadata": {},
     "output_type": "execute_result"
    }
   ],
   "source": [
    "memories[0].dict()"
   ]
  },
  {
   "cell_type": "code",
   "execution_count": 34,
   "metadata": {},
   "outputs": [
    {
     "data": {
      "text/plain": [
       "{'name': 'John Doe', 'email': 'rutvikjshah@gmail.com'}"
      ]
     },
     "execution_count": 34,
     "metadata": {},
     "output_type": "execute_result"
    }
   ],
   "source": [
    "memories[0].value"
   ]
  },
  {
   "cell_type": "markdown",
   "metadata": {},
   "source": [
    "### Getting Memory Using Key And Namespace"
   ]
  },
  {
   "cell_type": "code",
   "execution_count": 35,
   "metadata": {},
   "outputs": [
    {
     "data": {
      "text/plain": [
       "{'namespace': ['1', 'customer_interactions'],\n",
       " 'key': '1',\n",
       " 'value': {'name': 'John Doe', 'email': 'rutvikjshah@gmail.com'},\n",
       " 'created_at': '2025-02-26T16:54:06.189699+00:00',\n",
       " 'updated_at': '2025-02-26T16:54:06.189700+00:00'}"
      ]
     },
     "execution_count": 35,
     "metadata": {},
     "output_type": "execute_result"
    }
   ],
   "source": [
    "memory = in_memory_store.get(namespace=namespace_for_memory, key=key)\n",
    "memory.dict()"
   ]
  },
  {
   "cell_type": "markdown",
   "metadata": {},
   "source": [
    "### Delete Memory"
   ]
  },
  {
   "cell_type": "code",
   "execution_count": 36,
   "metadata": {},
   "outputs": [],
   "source": [
    "in_memory_store.delete(namespace=namespace_for_memory, key=key)"
   ]
  },
  {
   "cell_type": "code",
   "execution_count": 39,
   "metadata": {},
   "outputs": [],
   "source": [
    "memory = in_memory_store.get(namespace=namespace_for_memory, key=key)\n",
    "\n",
    "if memory:\n",
    "    memory.dict()"
   ]
  },
  {
   "cell_type": "markdown",
   "metadata": {},
   "source": [
    "### Creating Customer Support Agent with Long And Short Term Memory"
   ]
  },
  {
   "cell_type": "markdown",
   "metadata": {},
   "source": [
    "### Creating Model"
   ]
  },
  {
   "cell_type": "code",
   "execution_count": 40,
   "metadata": {},
   "outputs": [],
   "source": [
    "from langchain_openai import ChatOpenAI\n",
    "\n",
    "model = ChatOpenAI(model=\"gpt-4o-mini\")\n"
   ]
  },
  {
   "cell_type": "code",
   "execution_count": 41,
   "metadata": {},
   "outputs": [],
   "source": [
    "COMPANY_NAME = \"Code With Prince PLC\"\n",
    "\n",
    "MODEL_SYSTEM_MESSAGE = \"\"\"You are a helpful customer support assistant for  {company_name}.\n",
    "Use the customer's history to provide relevant and personalized support.\n",
    "Customer profile: {history}\"\"\"\n",
    "\n",
    "CREATE_HISTORY_INSTRUCTION = \"\"\"Update the customer profile with new support interaction details.\n",
    "\n",
    "CURRENT_PROFILE:\n",
    "{history}\n",
    "\n",
    "ANALYZE FOR:\n",
    "1. Contact history\n",
    "2. Product usage/purchase\n",
    "3. Previous issues/resolutions\n",
    "4. Preferences (communication, products)\n",
    "5. Special circumstances\n",
    "\n",
    "Focus on verified support interactions only. Summarize key details clearly.\n",
    "\n",
    "Update profile based on this Conversation:\"\"\""
   ]
  },
  {
   "cell_type": "markdown",
   "metadata": {},
   "source": [
    "### Nodes"
   ]
  },
  {
   "cell_type": "code",
   "execution_count": 42,
   "metadata": {},
   "outputs": [],
   "source": [
    "from IPython.display import Image, display\n",
    "from langgraph.checkpoint.memory import MemorySaver\n",
    "from langgraph.graph import StateGraph, MessagesState, START, END\n",
    "from langgraph.store.base import BaseStore\n",
    "\n",
    "from langchain_core.messages import HumanMessage, SystemMessage\n",
    "from langchain_core.runnables.config import RunnableConfig"
   ]
  },
  {
   "cell_type": "code",
   "execution_count": null,
   "metadata": {},
   "outputs": [],
   "source": []
  }
 ],
 "metadata": {
  "kernelspec": {
   "display_name": ".venv",
   "language": "python",
   "name": "python3"
  },
  "language_info": {
   "codemirror_mode": {
    "name": "ipython",
    "version": 3
   },
   "file_extension": ".py",
   "mimetype": "text/x-python",
   "name": "python",
   "nbconvert_exporter": "python",
   "pygments_lexer": "ipython3",
   "version": "3.13.1"
  }
 },
 "nbformat": 4,
 "nbformat_minor": 2
}
