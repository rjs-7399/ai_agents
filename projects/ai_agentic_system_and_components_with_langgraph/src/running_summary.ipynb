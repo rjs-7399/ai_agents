{
 "cells": [
  {
   "cell_type": "markdown",
   "metadata": {},
   "source": [
    "## Running Summary"
   ]
  },
  {
   "cell_type": "markdown",
   "metadata": {},
   "source": [
    "### Load Env"
   ]
  },
  {
   "cell_type": "code",
   "execution_count": 1,
   "metadata": {},
   "outputs": [],
   "source": [
    "%load_ext dotenv\n",
    "%dotenv"
   ]
  },
  {
   "cell_type": "markdown",
   "metadata": {},
   "source": [
    "### Create State"
   ]
  },
  {
   "cell_type": "code",
   "execution_count": 2,
   "metadata": {},
   "outputs": [],
   "source": [
    "from langgraph.graph import MessagesState"
   ]
  },
  {
   "cell_type": "code",
   "execution_count": 3,
   "metadata": {},
   "outputs": [],
   "source": [
    "class State(MessagesState):\n",
    "    summary: str"
   ]
  },
  {
   "cell_type": "code",
   "execution_count": 13,
   "metadata": {},
   "outputs": [],
   "source": [
    "from langchain_core.messages import SystemMessage, RemoveMessage, HumanMessage\n",
    "from langgraph.graph import START, END, StateGraph\n",
    "from langgraph.checkpoint.memory import MemorySaver"
   ]
  },
  {
   "cell_type": "code",
   "execution_count": 8,
   "metadata": {},
   "outputs": [],
   "source": [
    "from langchain_openai import ChatOpenAI\n",
    "\n",
    "\n",
    "llm = ChatOpenAI(\n",
    "    temperature=0.0,\n",
    "    model=\"gpt-4o-mini\",\n",
    ")"
   ]
  },
  {
   "cell_type": "code",
   "execution_count": 9,
   "metadata": {},
   "outputs": [],
   "source": [
    "def summarize_conversation(state: State) -> State:\n",
    "    summary = state.get(\"summary\")\n",
    "\n",
    "    if summary:\n",
    "        sys_msg = (\n",
    "            f\"This is a summary of the conversation to date: {summary}\"\n",
    "            \"\\n\\n Extend the summary by taking into account the latest messages given to you above.\"\n",
    "        )\n",
    "    else:\n",
    "        sys_msg = \"Create a summary of the conversation above.\"\n",
    "    \n",
    "    message = state[\"messages\"] + [HumanMessage(content=sys_msg)]\n",
    "    response = llm.invoke(message)\n",
    "\n",
    "    delete_messages = [RemoveMessage(message.id) for message in state[\"messages\"][:-2]]\n",
    "    return {\"messages\": delete_messages, \"summary\": response.content}\n"
   ]
  },
  {
   "cell_type": "code",
   "execution_count": 10,
   "metadata": {},
   "outputs": [],
   "source": [
    "def model_invocation(state: State):\n",
    "    summary = state.get(\"summary\")\n",
    "    if summary:\n",
    "        sys_msg = f\"Summary of previous conversation: {summary}\"\n",
    "        messages = [SystemMessage(sys_msg)] + state[\"messages\"]\n",
    "    else:\n",
    "        messages = state[\"messages\"]\n",
    "    response = llm.invoke(messages)\n",
    "    return {\"messages\": response}"
   ]
  },
  {
   "cell_type": "code",
   "execution_count": 12,
   "metadata": {},
   "outputs": [],
   "source": [
    "def should_continue(state: State):\n",
    "    \"\"\"Return the next node to execute\"\"\"\n",
    "    messages = state.get(\"messages\")\n",
    "    if len(messages) > 6:\n",
    "        return \"summarize_conversation\"\n",
    "    return END"
   ]
  },
  {
   "cell_type": "markdown",
   "metadata": {},
   "source": [
    "### Build A Graph"
   ]
  },
  {
   "cell_type": "code",
   "execution_count": 14,
   "metadata": {},
   "outputs": [],
   "source": [
    "builder = StateGraph(State)\n",
    "\n",
    "builder.add_node(\"conversation\", model_invocation)\n",
    "builder.add_node(\"summarize_conversation\", summarize_conversation)\n",
    "\n",
    "builder.add_edge(START, \"conversation\")\n",
    "builder.add_conditional_edges(\"conversation\", should_continue)\n",
    "builder.add_edge(\"summarize_conversation\", END)\n",
    "\n",
    "memory = MemorySaver()\n",
    "\n",
    "graph = builder.compile()"
   ]
  },
  {
   "cell_type": "code",
   "execution_count": null,
   "metadata": {},
   "outputs": [],
   "source": []
  }
 ],
 "metadata": {
  "kernelspec": {
   "display_name": ".venv",
   "language": "python",
   "name": "python3"
  },
  "language_info": {
   "codemirror_mode": {
    "name": "ipython",
    "version": 3
   },
   "file_extension": ".py",
   "mimetype": "text/x-python",
   "name": "python",
   "nbconvert_exporter": "python",
   "pygments_lexer": "ipython3",
   "version": "3.13.1"
  }
 },
 "nbformat": 4,
 "nbformat_minor": 2
}
