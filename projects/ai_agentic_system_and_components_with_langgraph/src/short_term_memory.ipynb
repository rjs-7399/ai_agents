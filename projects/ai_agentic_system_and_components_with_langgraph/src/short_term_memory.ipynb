{
 "cells": [
  {
   "cell_type": "markdown",
   "metadata": {},
   "source": [
    "## Short Term Memory Management"
   ]
  },
  {
   "cell_type": "code",
   "execution_count": 6,
   "metadata": {},
   "outputs": [
    {
     "name": "stdout",
     "output_type": "stream",
     "text": [
      "Note: you may need to restart the kernel to use updated packages.\n"
     ]
    }
   ],
   "source": [
    "%pip install -qU langchain-openai"
   ]
  },
  {
   "cell_type": "code",
   "execution_count": 7,
   "metadata": {},
   "outputs": [],
   "source": [
    "%load_ext dotenv\n",
    "%dotenv"
   ]
  },
  {
   "cell_type": "markdown",
   "metadata": {},
   "source": [
    "### Dummy Messages"
   ]
  },
  {
   "cell_type": "code",
   "execution_count": 8,
   "metadata": {},
   "outputs": [],
   "source": [
    "from langchain_core.messages import AIMessage, HumanMessage"
   ]
  },
  {
   "cell_type": "code",
   "execution_count": 9,
   "metadata": {},
   "outputs": [
    {
     "name": "stdout",
     "output_type": "stream",
     "text": [
      "==================================\u001b[1m Ai Message \u001b[0m==================================\n",
      "Name: LLM\n",
      "\n",
      "What would you like to know about capital cities ?\n",
      "================================\u001b[1m Human Message \u001b[0m=================================\n",
      "Name: Human\n",
      "\n",
      "The capital city of India is Delhi. What of France ?\n",
      "==================================\u001b[1m Ai Message \u001b[0m==================================\n",
      "Name: LLM\n",
      "\n",
      "The capital city of France is Paris. Would you like to know more about its history ?\n",
      "================================\u001b[1m Human Message \u001b[0m=================================\n",
      "Name: Human\n",
      "\n",
      "Yes, tell me about its history.\n",
      "==================================\u001b[1m Ai Message \u001b[0m==================================\n",
      "Name: LLM\n",
      "\n",
      "Paris has been France's capital since 508 CE. It began as a Roman city called Lutetia, evolved through medieval times as a major cultural center, and played crucial roles in events like the French Revolution. The city has historically been a global hub for art, fashion, cuisine, and architecture, symbolized by landmarks like the Eiffel Tower.\n",
      "================================\u001b[1m Human Message \u001b[0m=================================\n",
      "Name: Human\n",
      "\n",
      "Yes, tell me more about Eiffel Tower\n"
     ]
    }
   ],
   "source": [
    "messages = [\n",
    "    AIMessage(content=\"What would you like to know about capital cities ?\", name=\"LLM\"),\n",
    "    HumanMessage(content=\"The capital city of India is Delhi. What of France ?\", name=\"Human\"),\n",
    "    AIMessage(content=\"The capital city of France is Paris. Would you like to know more about its history ?\", name=\"LLM\"),\n",
    "    HumanMessage(content=\"Yes, tell me about its history.\", name=\"Human\"),\n",
    "    AIMessage(content=\"Paris has been France's capital since 508 CE. It began as a Roman city called Lutetia, evolved through medieval times as a major cultural center, and played crucial roles in events like the French Revolution. The city has historically been a global hub for art, fashion, cuisine, and architecture, symbolized by landmarks like the Eiffel Tower.\", name=\"LLM\"),\n",
    "    HumanMessage(content=\"Yes, tell me more about Eiffel Tower\", name=\"Human\"),\n",
    "]\n",
    "\n",
    "for message in messages:\n",
    "    message.pretty_print()"
   ]
  },
  {
   "cell_type": "markdown",
   "metadata": {},
   "source": [
    "### Chat Model"
   ]
  },
  {
   "cell_type": "code",
   "execution_count": 10,
   "metadata": {},
   "outputs": [],
   "source": [
    "from langchain_openai import ChatOpenAI"
   ]
  },
  {
   "cell_type": "code",
   "execution_count": 11,
   "metadata": {},
   "outputs": [],
   "source": [
    "llm = ChatOpenAI(\n",
    "    temperature=0.0,\n",
    "    model=\"gpt-4o-mini\",\n",
    ")"
   ]
  },
  {
   "cell_type": "code",
   "execution_count": 12,
   "metadata": {},
   "outputs": [
    {
     "data": {
      "text/plain": [
       "'The Eiffel Tower, known as \"La Tour Eiffel\" in French, is one of the most iconic landmarks in the world. Here are some key points about its history and significance:\\n\\n1. **Construction**: The Eiffel Tower was designed by the engineer Gustave Eiffel and his company for the 1889 Exposition Universelle (World\\'s Fair) held in Paris to celebrate the 100th anniversary of the French Revolution. Construction began in January 1887 and was completed in March 1889.\\n\\n2. **Design**: The tower is made of iron and stands approximately 300 meters (1,083 feet) tall, making it the tallest structure in the world at the time of its completion. It was initially criticized by some of Paris\\'s leading artists and intellectuals for its design, but it has since become a beloved symbol of the city.\\n\\n3. **Structure**: The Eiffel Tower consists of three levels accessible to the public. The first two levels feature restaurants and shops, while the third level offers an observation deck with stunning views of Paris.\\n\\n4. **Cultural Significance**: Over the years, the Eiffel Tower has become a global symbol of France and a representation of Parisian culture. It attracts millions of visitors each year, making it one of the most visited paid monuments in the world.\\n\\n5. **Illumination**: The tower is beautifully illuminated at night, with a sparkling light show that occurs every hour on the hour after sunset. This adds to its charm and allure.\\n\\n6. **Renovations and Maintenance**: The Eiffel Tower undergoes regular maintenance and renovations to preserve its structure and appearance. It is repainted approximately every seven years to protect it from rust.\\n\\n7. **Cultural Events**: The Eiffel Tower has been the backdrop for numerous cultural events, celebrations, and even protests throughout its history, further cementing its status as a central figure in Parisian life.\\n\\nThe Eiffel Tower remains a testament to engineering innovation and a symbol of romance and beauty, making it a must-visit destination for travelers from around the world.'"
      ]
     },
     "execution_count": 12,
     "metadata": {},
     "output_type": "execute_result"
    }
   ],
   "source": [
    "ai_response = llm.invoke(messages)\n",
    "ai_response.content\n"
   ]
  },
  {
   "cell_type": "markdown",
   "metadata": {},
   "source": [
    "### Graph Node"
   ]
  },
  {
   "cell_type": "code",
   "execution_count": 13,
   "metadata": {},
   "outputs": [],
   "source": [
    "from langgraph.graph import MessagesState, START, END, StateGraph"
   ]
  },
  {
   "cell_type": "code",
   "execution_count": 14,
   "metadata": {},
   "outputs": [],
   "source": [
    "def chat_model_node(state: MessagesState):\n",
    "    response = llm.invoke(state[\"messages\"])\n",
    "    return {\"messages\": response}"
   ]
  },
  {
   "cell_type": "code",
   "execution_count": 15,
   "metadata": {},
   "outputs": [],
   "source": [
    "builder = StateGraph(MessagesState)\n",
    "\n",
    "builder.add_node(\"chat_model_node\", chat_model_node)\n",
    "builder.add_edge(START, \"chat_model_node\")\n",
    "builder.add_edge(\"chat_model_node\", END)\n",
    "\n",
    "graph = builder.compile()"
   ]
  },
  {
   "cell_type": "code",
   "execution_count": 16,
   "metadata": {},
   "outputs": [],
   "source": [
    "from IPython.display import display, Image"
   ]
  },
  {
   "cell_type": "code",
   "execution_count": 17,
   "metadata": {},
   "outputs": [
    {
     "data": {
      "image/png": "[encoded data removed]",
      "text/plain": [
       "<IPython.core.display.Image object>"
      ]
     },
     "metadata": {},
     "output_type": "display_data"
    }
   ],
   "source": [
    "display(Image(graph.get_graph().draw_mermaid_png()))"
   ]
  },
  {
   "cell_type": "code",
   "execution_count": 18,
   "metadata": {},
   "outputs": [],
   "source": [
    "graph_response = graph.invoke({\"messages\": messages})"
   ]
  },
  {
   "cell_type": "code",
   "execution_count": 19,
   "metadata": {},
   "outputs": [
    {
     "name": "stdout",
     "output_type": "stream",
     "text": [
      "==================================\u001b[1m Ai Message \u001b[0m==================================\n",
      "Name: LLM\n",
      "\n",
      "What would you like to know about capital cities ?\n",
      "================================\u001b[1m Human Message \u001b[0m=================================\n",
      "Name: Human\n",
      "\n",
      "The capital city of India is Delhi. What of France ?\n",
      "==================================\u001b[1m Ai Message \u001b[0m==================================\n",
      "Name: LLM\n",
      "\n",
      "The capital city of France is Paris. Would you like to know more about its history ?\n",
      "================================\u001b[1m Human Message \u001b[0m=================================\n",
      "Name: Human\n",
      "\n",
      "Yes, tell me about its history.\n",
      "==================================\u001b[1m Ai Message \u001b[0m==================================\n",
      "Name: LLM\n",
      "\n",
      "Paris has been France's capital since 508 CE. It began as a Roman city called Lutetia, evolved through medieval times as a major cultural center, and played crucial roles in events like the French Revolution. The city has historically been a global hub for art, fashion, cuisine, and architecture, symbolized by landmarks like the Eiffel Tower.\n",
      "================================\u001b[1m Human Message \u001b[0m=================================\n",
      "Name: Human\n",
      "\n",
      "Yes, tell me more about Eiffel Tower\n",
      "==================================\u001b[1m Ai Message \u001b[0m==================================\n",
      "\n",
      "The Eiffel Tower, or \"La Tour Eiffel\" in French, is one of the most recognizable structures in the world and a global symbol of France. Here are some key points about its history and significance:\n",
      "\n",
      "1. **Construction**: The Eiffel Tower was designed by the engineer Gustave Eiffel and his company for the 1889 Exposition Universelle (World's Fair) held in Paris to celebrate the 100th anniversary of the French Revolution. Construction began in 1887 and was completed in March 1889.\n",
      "\n",
      "2. **Design**: The tower stands at 1,083 feet (330 meters) tall, making it the tallest structure in the world at the time of its completion. It was constructed using wrought iron and consists of over 18,000 individual parts held together by 2.5 million rivets.\n",
      "\n",
      "3. **Initial Reception**: Initially, the Eiffel Tower faced criticism from some of Paris's leading artists and intellectuals, who considered it an eyesore. However, it gradually gained acceptance and became a beloved symbol of the city.\n",
      "\n",
      "4. **Cultural Significance**: The Eiffel Tower has been featured in countless films, artworks, and photographs, making it an iconic representation of Paris and French culture. It attracts millions of visitors each year, making it one of the most visited paid monuments in the world.\n",
      "\n",
      "5. **Lighting and Events**: The tower is beautifully illuminated at night and often serves as a backdrop for various events, including fireworks displays and celebrations. It has also been adorned with special lights for significant occasions.\n",
      "\n",
      "6. **Renovations and Maintenance**: The Eiffel Tower undergoes regular maintenance and renovations to preserve its structure and appearance. It is repainted approximately every seven years to protect it from rust.\n",
      "\n",
      "7. **Visitor Experience**: Visitors can ascend the tower via stairs or elevators to enjoy panoramic views of Paris from its various levels, with restaurants and observation decks available.\n",
      "\n",
      "The Eiffel Tower remains a testament to engineering innovation and a cherished landmark that continues to captivate people from around the world.\n"
     ]
    }
   ],
   "source": [
    "for message in graph_response[\"messages\"]:\n",
    "    message.pretty_print()"
   ]
  },
  {
   "cell_type": "markdown",
   "metadata": {},
   "source": [
    "### Filtering Technique"
   ]
  },
  {
   "cell_type": "code",
   "execution_count": 20,
   "metadata": {},
   "outputs": [],
   "source": [
    "from langchain_core.messages import RemoveMessage"
   ]
  },
  {
   "cell_type": "code",
   "execution_count": 22,
   "metadata": {},
   "outputs": [],
   "source": [
    "def filter_messages(state: MessagesState):\n",
    "    messages = state[\"messages\"]\n",
    "    messages = [RemoveMessage(message.id) for message in messages[:-3]]\n",
    "    return {\"messages\": messages}"
   ]
  },
  {
   "cell_type": "markdown",
   "metadata": {},
   "source": [
    "### Graph"
   ]
  },
  {
   "cell_type": "code",
   "execution_count": 23,
   "metadata": {},
   "outputs": [],
   "source": [
    "builder = StateGraph(MessagesState)\n",
    "\n",
    "builder.add_node(\"filter_message_node\", filter_messages)\n",
    "builder.add_node(\"chat_model_node\", chat_model_node)\n",
    "\n",
    "builder.add_edge(START, \"filter_message_node\")\n",
    "builder.add_edge(\"filter_message_node\", \"chat_model_node\")\n",
    "builder.add_edge(\"chat_model_node\", END)\n",
    "\n",
    "graph = builder.compile()"
   ]
  },
  {
   "cell_type": "code",
   "execution_count": 24,
   "metadata": {},
   "outputs": [
    {
     "data": {
      "image/png": "[encoded data removed]",
      "text/plain": [
       "<IPython.core.display.Image object>"
      ]
     },
     "metadata": {},
     "output_type": "display_data"
    }
   ],
   "source": [
    "from IPython.display import display, Image\n",
    "\n",
    "display(Image(graph.get_graph().draw_mermaid_png()))"
   ]
  },
  {
   "cell_type": "code",
   "execution_count": null,
   "metadata": {},
   "outputs": [],
   "source": []
  }
 ],
 "metadata": {
  "kernelspec": {
   "display_name": ".venv",
   "language": "python",
   "name": "python3"
  },
  "language_info": {
   "codemirror_mode": {
    "name": "ipython",
    "version": 3
   },
   "file_extension": ".py",
   "mimetype": "text/x-python",
   "name": "python",
   "nbconvert_exporter": "python",
   "pygments_lexer": "ipython3",
   "version": "3.13.1"
  }
 },
 "nbformat": 4,
 "nbformat_minor": 2
}
